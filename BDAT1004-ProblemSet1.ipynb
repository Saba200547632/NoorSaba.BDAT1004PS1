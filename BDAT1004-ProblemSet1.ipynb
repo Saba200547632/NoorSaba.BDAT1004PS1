{
 "cells": [
  {
   "cell_type": "markdown",
   "id": "dd02c96b",
   "metadata": {},
   "source": [
    "# Question 1\n",
    "##### What data type is each of the following (evaluate where necessary)?\n",
    "5\n",
    "\n",
    "5.0\n",
    "\n",
    "5 > 1\n",
    "\n",
    "'5'\n",
    "\n",
    "5 * 2\n",
    "\n",
    "'5' * 2\n",
    "\n",
    "'5' + '2'\n",
    "\n",
    "5 / 2\n",
    "\n",
    "5 % 2\n",
    "\n",
    "{5, 2, 1}\n",
    "\n",
    "5 == 3\n",
    "\n",
    "Pi (the number)"
   ]
  },
  {
   "cell_type": "code",
   "execution_count": 28,
   "id": "5a1861b0",
   "metadata": {},
   "outputs": [
    {
     "name": "stdout",
     "output_type": "stream",
     "text": [
      "<class 'int'>\n"
     ]
    }
   ],
   "source": [
    "print(type(5))"
   ]
  },
  {
   "cell_type": "code",
   "execution_count": 30,
   "id": "d84d4816",
   "metadata": {},
   "outputs": [
    {
     "name": "stdout",
     "output_type": "stream",
     "text": [
      "<class 'float'>\n"
     ]
    }
   ],
   "source": [
    "print(type(5.0))"
   ]
  },
  {
   "cell_type": "code",
   "execution_count": 48,
   "id": "c2eeae0f",
   "metadata": {},
   "outputs": [
    {
     "name": "stdout",
     "output_type": "stream",
     "text": [
      "True\n",
      "<class 'bool'>\n"
     ]
    }
   ],
   "source": [
    "print(5 > 1)\n",
    "print(type(5 > 1))"
   ]
  },
  {
   "cell_type": "code",
   "execution_count": 32,
   "id": "d9a18bad",
   "metadata": {},
   "outputs": [
    {
     "name": "stdout",
     "output_type": "stream",
     "text": [
      "<class 'str'>\n"
     ]
    }
   ],
   "source": [
    "print(type('5'))"
   ]
  },
  {
   "cell_type": "code",
   "execution_count": 49,
   "id": "032cbb16",
   "metadata": {},
   "outputs": [
    {
     "name": "stdout",
     "output_type": "stream",
     "text": [
      "10\n",
      "<class 'int'>\n"
     ]
    }
   ],
   "source": [
    "print(5 * 2)\n",
    "print(type(5 * 2))"
   ]
  },
  {
   "cell_type": "code",
   "execution_count": 50,
   "id": "2d97b1f6",
   "metadata": {},
   "outputs": [
    {
     "name": "stdout",
     "output_type": "stream",
     "text": [
      "55\n",
      "<class 'str'>\n"
     ]
    }
   ],
   "source": [
    "print('5' * 2)\n",
    "print(type('5' * 2))"
   ]
  },
  {
   "cell_type": "code",
   "execution_count": 51,
   "id": "14598566",
   "metadata": {},
   "outputs": [
    {
     "name": "stdout",
     "output_type": "stream",
     "text": [
      "52\n",
      "<class 'str'>\n"
     ]
    }
   ],
   "source": [
    "print('5' + '2')\n",
    "print(type('5' + '2'))"
   ]
  },
  {
   "cell_type": "code",
   "execution_count": 63,
   "id": "8e678a0d",
   "metadata": {},
   "outputs": [
    {
     "name": "stdout",
     "output_type": "stream",
     "text": [
      "2.5\n",
      "<class 'float'>\n"
     ]
    }
   ],
   "source": [
    "print(5 / 2)\n",
    "print(type(5 / 2))"
   ]
  },
  {
   "cell_type": "code",
   "execution_count": 64,
   "id": "f7de1066",
   "metadata": {},
   "outputs": [
    {
     "name": "stdout",
     "output_type": "stream",
     "text": [
      "1\n",
      "<class 'int'>\n"
     ]
    }
   ],
   "source": [
    "print(5 % 2)\n",
    "print(type(5 % 2))"
   ]
  },
  {
   "cell_type": "code",
   "execution_count": 38,
   "id": "8d014900",
   "metadata": {},
   "outputs": [
    {
     "name": "stdout",
     "output_type": "stream",
     "text": [
      "<class 'set'>\n"
     ]
    }
   ],
   "source": [
    "print(type({5, 2, 1}))"
   ]
  },
  {
   "cell_type": "code",
   "execution_count": 46,
   "id": "563bafd1",
   "metadata": {},
   "outputs": [
    {
     "name": "stdout",
     "output_type": "stream",
     "text": [
      "False\n",
      "<class 'bool'>\n"
     ]
    }
   ],
   "source": [
    "print(5 == 3)\n",
    "print(type(5 == 3))"
   ]
  },
  {
   "cell_type": "code",
   "execution_count": 41,
   "id": "ce289bb1",
   "metadata": {},
   "outputs": [
    {
     "name": "stdout",
     "output_type": "stream",
     "text": [
      "<class 'float'>\n"
     ]
    }
   ],
   "source": [
    "print(type(3.14159)) #Value of Pi upto 5 decimal places"
   ]
  },
  {
   "cell_type": "markdown",
   "id": "58acb182",
   "metadata": {},
   "source": [
    "# Question 2\n",
    "#### Write (and evaluate) python expressions that answer these questions:\n",
    "a. How many letters are there in 'Supercalifragilisticexpialidocious'?\n",
    "\n",
    "b. Does 'Supercalifragilisticexpialidocious' contain 'ice' as a substring? \n",
    "\n",
    "c. Which of the following words is the longest:\n",
    "Supercalifragilisticexpialidocious, Honorificabilitudinitatibus, or\n",
    "Bababadalgharaghtakamminarronnkonn?\n",
    "\n",
    "d. Which composer comes first in the dictionary: 'Berlioz', 'Borodin', 'Brian',\n",
    "'Bartok', 'Bellini', 'Buxtehude', 'Bernstein'. Which one comes last?"
   ]
  },
  {
   "cell_type": "code",
   "execution_count": 30,
   "id": "7ed3c931",
   "metadata": {},
   "outputs": [
    {
     "name": "stdout",
     "output_type": "stream",
     "text": [
      "34\n"
     ]
    }
   ],
   "source": [
    "# a\n",
    "letters = \"Supercalifragilisticexpialidocious\" #Assigning a variable name to the given string\n",
    "print(len(letters)) #using length to find the length of the string, which will give us the number of letters in 'Supercalifragilisticexpialidocious"
   ]
  },
  {
   "cell_type": "code",
   "execution_count": 33,
   "id": "edb322ce",
   "metadata": {},
   "outputs": [
    {
     "name": "stdout",
     "output_type": "stream",
     "text": [
      "Yes, 'Supercalifragilisticexpialidocious' contains 'ice' as a substring\n"
     ]
    }
   ],
   "source": [
    "# b\n",
    "String1 = \"Supercalifragilisticexpialidocious\"  #Assigning a variable name to the given string\n",
    " \n",
    "#Using if-else to check if the substring 'ice' is present\n",
    "if \"ice\" in String1: \n",
    "    print(\"Yes, 'Supercalifragilisticexpialidocious' contains 'ice' as a substring\") \n",
    "else: \n",
    "    print(\"No, 'Supercalifragilisticexpialidocious' does not contain 'ice' as a substring\") "
   ]
  },
  {
   "cell_type": "code",
   "execution_count": 46,
   "id": "154c1e4f",
   "metadata": {},
   "outputs": [
    {
     "name": "stdout",
     "output_type": "stream",
     "text": [
      "Longest string is : Supercalifragilisticexpialidocious\n"
     ]
    }
   ],
   "source": [
    "# c\n",
    "words = ['Supercalifragilisticexpialidocious', 'Honorificabilitudinitatibus', 'Bababadalgharaghtakamminarronnkonn'] #Assignment\n",
    " \n",
    "length = [len(s) for s in words] #creating a new list of string lengths\n",
    " \n",
    "longest_word = length.index(max(length)) #finding the index of the longest string(word) in the list\n",
    " \n",
    "longest_word = words[longest_word] #using the index to get the longest string(word) from the original list\n",
    " \n",
    "print(\"Longest string is : \" + longest_word) #printing the longest word"
   ]
  },
  {
   "cell_type": "code",
   "execution_count": 29,
   "id": "56c78e35",
   "metadata": {},
   "outputs": [
    {
     "name": "stdout",
     "output_type": "stream",
     "text": [
      "['Bartok', 'Bellini', 'Berlioz', 'Bernstein', 'Borodin', 'Brian', 'Buxtehude']\n",
      "Bartok\n",
      "Buxtehude\n"
     ]
    }
   ],
   "source": [
    "# d\n",
    "composers = ['Berlioz', 'Borodin', 'Brian', 'Bartok', 'Bellini', 'Buxtehude', 'Bernstein']\n",
    "composers.sort()  #Using sort since all words in the dictionary are in alphabetic order\n",
    "print(composers)  #Printing after sorting in alphabetic order\n",
    "print(composers[0])  #Finding index of first composer, which will be printed first\n",
    "print(composers[-1])  #Finding index of last composer, which will be printed last"
   ]
  },
  {
   "cell_type": "markdown",
   "id": "f4820e00",
   "metadata": {},
   "source": [
    "# Question 3\n",
    "#### Implement function triangleArea(a,b,c) that takes as input the lengths of the 3 sides of a triangle and returns the area of the triangle. By Heron's formula, the area of a triangle with side lengths a, b, and c is s(s - a)(s -b)(s -c), where s = (a+b+c)/2. "
   ]
  },
  {
   "cell_type": "code",
   "execution_count": 57,
   "id": "b504e918",
   "metadata": {},
   "outputs": [
    {
     "data": {
      "text/plain": [
       "1.7320508075688772"
      ]
     },
     "execution_count": 57,
     "metadata": {},
     "output_type": "execute_result"
    }
   ],
   "source": [
    "import math\n",
    "\n",
    "def triangleArea(a, b, c): #Defining function\n",
    "   \n",
    "    s = (a + b + c) / 2  #Calculating s\n",
    "    \n",
    "    areaoftriangle = math.sqrt(s * (s - a) * (s - b) * (s - c))  #Calculating the area using Heron's formula\n",
    "    \n",
    "    return areaoftriangle\n",
    "\n",
    "triangleArea(2,2,2)\n",
    "\n"
   ]
  },
  {
   "cell_type": "markdown",
   "id": "7f6bdae2",
   "metadata": {},
   "source": [
    "# Question 4\n",
    "#### Write a program in python to separate odd and even integers in separate arrays. Go to the editor\n",
    "#### Test Data :\n",
    "#### Input the number of elements to be stored in the array :5\n",
    "#### Input 5 elements in the array :\n",
    "#### element - 0 : 25\n",
    "#### element - 1 : 47\n",
    "#### element - 2 : 42\n",
    "#### element - 3 : 56\n",
    "#### element - 4 : 32\n",
    "#### Expected Output: The Even elements are: 42 56 32\n",
    "#### The Odd elements are : 25 47"
   ]
  },
  {
   "cell_type": "code",
   "execution_count": 18,
   "id": "c91e13a2",
   "metadata": {},
   "outputs": [
    {
     "name": "stdout",
     "output_type": "stream",
     "text": [
      "Input the number of elements to be stored in the array: 5\n",
      "Enter element:25\n",
      "Enter element:47\n",
      "Enter element:42\n",
      "Enter element:56\n",
      "Enter element:32\n",
      "The Even elements are:  [42, 56, 32]\n",
      "The Odd elements are:  [25, 47]\n"
     ]
    }
   ],
   "source": [
    "a = [] #empty list to store the input\n",
    "n = int(input(\"Input the number of elements to be stored in the array: \"))\n",
    "for i in range(1,n+1): #for loop to enter input elements from user\n",
    "    b = int(input(\"Enter element:\"))\n",
    "    a.append(b)\n",
    "even = [] #empty list to store even elements\n",
    "odd = [] #empty list to store odd elements\n",
    "for j in a:\n",
    "    if(j%2==0): #logic to find if element is even or odd\n",
    "        even.append(j)\n",
    "    else:\n",
    "        odd.append(j)\n",
    "print(\"The Even elements are: \",even)\n",
    "print(\"The Odd elements are: \",odd)"
   ]
  },
  {
   "cell_type": "markdown",
   "id": "b82e7c71",
   "metadata": {},
   "source": [
    "# Question 5\n",
    "#### a. Write a function inside(x,y,x1,y1,x2,y2) that returns True or False depending on whether the point (x,y) lies in the rectangle with lower left corner (x1,y1) and upper right corner (x2,y2).\n",
    "inside(1,1,0,0,2,3)\n",
    "\n",
    "True\n",
    "\n",
    "inside(-1,-1,0,0,2,3)\n",
    "\n",
    "False\n",
    "\n",
    "#### b. Use function inside() from part a. to write an expression that tests whetherthe point (1,1) lies in both of the following rectangles: one with lower left corner (0.3, 0.5) and upper right corner (1.1, 0.7) and the other with lower left corner (0.5, 0.2) and upper right corner (1.1, 2)"
   ]
  },
  {
   "cell_type": "code",
   "execution_count": 27,
   "id": "37ba02a2",
   "metadata": {},
   "outputs": [
    {
     "name": "stdout",
     "output_type": "stream",
     "text": [
      "True\n",
      "False\n"
     ]
    }
   ],
   "source": [
    "# 5a\n",
    "\n",
    "#x, y: Coordinates of the point\n",
    "#x1, y1: Coordinates of the lower left corner of the rectangle & x2, y2: Coordinates of the upper right corner of the rectangle\n",
    "\n",
    "def inside(x, y, x1, y1, x2, y2):\n",
    "    if x1 < x < x2 and y1 < y < y2: \n",
    "        return True\n",
    "    else:\n",
    "        return False\n",
    "    \n",
    "print(inside(1, 1, 0, 0, 2, 3)) \n",
    "print(inside(-1, -1, 0, 0, 2, 3)) "
   ]
  },
  {
   "cell_type": "code",
   "execution_count": 19,
   "id": "6f1c38bd",
   "metadata": {},
   "outputs": [
    {
     "name": "stdout",
     "output_type": "stream",
     "text": [
      "False\n"
     ]
    }
   ],
   "source": [
    "# 5b\n",
    "\n",
    "# x, y: Coordinates of the point to be checked\n",
    "# x1, y1: Coordinates of the lower left corner of the outer rectangle\n",
    " #   x2, y2: Coordinates of the upper right corner of the outer rectangle\n",
    "  #  x3, y3: Coordinates of the lower left corner of the inner rectangle\n",
    "   # x4, y4: Coordinates of the upper right corner of the inner rectangle\n",
    "\n",
    "def inside(x, y, x1, y1, x2, y2, x3, y3, x4, y4):\n",
    "    if x1 < x < x2 and y1 < y < y2:\n",
    "        if x3 < x < x4 and y3 < y < y4:\n",
    "            return True\n",
    "    return False\n",
    "\n",
    "print(inside(1, 1, 0.3, 0.5, 1.1, 0.7, 0.5, 0.2, 1.1, 2)) "
   ]
  },
  {
   "cell_type": "code",
   "execution_count": 26,
   "id": "0d78ffba",
   "metadata": {},
   "outputs": [
    {
     "name": "stdout",
     "output_type": "stream",
     "text": [
      "False\n"
     ]
    }
   ],
   "source": [
    "# 5b\n",
    "\n",
    "#x, y: Coordinates of the point to be checked\n",
    "#x1, y1: Coordinates of the lower left corner of the first(outer) rectangle\n",
    "#x2, y2: Coordinates of the upper right corner of the first(outer) rectangle\n",
    "#x3, y3: Coordinates of the lower left corner of the second(inner) rectangle\n",
    "#x4, y4: Coordinates of the upper right corner of the second(inner) rectangle\n",
    "    \n",
    "def inside(x, y, x1, y1, x2, y2, x3, y3, x4, y4):\n",
    "    if (x1 < x < x2 and y1 < y < y2) and (x3 < x < x4 and y3 < y < y4) :\n",
    "        return True\n",
    "    return False\n",
    "\n",
    "print(inside(1, 1, 0.3, 0.5, 1.1, 0.7, 0.5, 0.2, 1.1, 2)) "
   ]
  },
  {
   "cell_type": "markdown",
   "id": "e1ba7643",
   "metadata": {},
   "source": [
    "# Question 6\n",
    "#### You can turn a word into pig-Latin using the following two rules (simplified):\n",
    "• If the word starts with a consonant, move that letter to the end and append\n",
    "'ay'. For example, 'happy' becomes 'appyhay' and 'pencil' becomes 'encilpay'.\n",
    "\n",
    "• If the word starts with a vowel, simply append 'way' to the end of the word.\n",
    "For example, 'enter' becomes 'enterway' and 'other' becomes 'otherway' . For\n",
    "our purposes, there are 5 vowels: a, e, i, o, u (so we count y as a consonant).\n",
    "\n",
    "Write a function pig() that takes a word (i.e., a string) as input and returns its pigLatin form. Your function should still work if the input word contains upper case\n",
    "characters. Your output should always be lower case however. "
   ]
  },
  {
   "cell_type": "code",
   "execution_count": 15,
   "id": "93950d79",
   "metadata": {},
   "outputs": [
    {
     "name": "stdout",
     "output_type": "stream",
     "text": [
      "appyhay\n",
      "enterway\n",
      "appyhay\n"
     ]
    }
   ],
   "source": [
    "def pig(word):\n",
    "    alphabets = ['a', 'e', 'i', 'o', 'u'] # list of alphabets\n",
    "    \n",
    "  #Converting first letter into lowercase using string method lower() and checking if it is there in the list or not   \n",
    "    if(word[0].lower() not in alphabets):  \n",
    "        word = (word[1:] + word[0] + 'ay').lower()\n",
    "    else:\n",
    "        word = (word + 'way').lower()\n",
    "    print(word)\n",
    "\n",
    "pig('happy')\n",
    "pig('Enter')\n",
    "pig('Happy')"
   ]
  },
  {
   "cell_type": "markdown",
   "id": "973e3f4c",
   "metadata": {},
   "source": [
    "# Question 7\n",
    "#### File bloodtype1.txt records blood-types of patients (A, B, AB, O or OO) at a clinic.\n",
    "#### Write a function bldcount() that reads the file with name name and reports (i.e., prints) how many patients there are in each bloodtype.\n",
    "bldcount('bloodtype.txt')\n",
    "\n",
    "There are 10 patients of blood type A.\n",
    "\n",
    "There is one patient of blood type B.\n",
    "\n",
    "There are 10 patients of blood type AB.\n",
    "\n",
    "There are 12 patients of blood type O.\n",
    "\n",
    "There are no patients of blood type OO.\n"
   ]
  },
  {
   "cell_type": "code",
   "execution_count": 79,
   "id": "b189d9b2",
   "metadata": {},
   "outputs": [
    {
     "name": "stdout",
     "output_type": "stream",
     "text": [
      "There are 15 patients of blood type A.\n",
      "There are 1 patients of blood type B.\n",
      "There are 13 patients of blood type AB.\n",
      "There are 15 patients of blood type O.\n",
      "There are no patients of blood type OO.\n"
     ]
    }
   ],
   "source": [
    "def bldcount(fileName):\n",
    " \n",
    "    file = open(fileName)    #opening the file\n",
    "   \n",
    "    bloodgroups = (file.readline()).split(' ')  #Creating a list called 'bloodgroups' by spliting the string by space.\n",
    "    \n",
    "    #creating dictionary which contains all blood groups who are initialized to zero count\n",
    "    BGCount = { 'A' : 0, 'B' : 0, 'AB' : 0, 'O' : 0, 'OO' : 0 }\n",
    "    \n",
    "    #testing the blood group and increase the counter by 1 of matched blood group\n",
    "    for BG in bloodgroups:\n",
    "        if BG == 'A':\n",
    "            BGCount['A'] += 1\n",
    "        elif BG == 'B':\n",
    "            BGCount['B'] += 1\n",
    "        elif BG == 'AB':\n",
    "            BGCount['AB'] += 1\n",
    "        elif BG == 'O':\n",
    "            BGCount['O'] +=1\n",
    "        elif BG == 'OO':\n",
    "            BGCount['OO'] +=1\n",
    "    \n",
    "   \n",
    "    if BGCount['A'] > 0:  #Counting blood type 'A' patients\n",
    "        print(f\"There are {BGCount['A']} patients of blood type A.\")\n",
    "    else:\n",
    "        print(f\"There are no patients of blood type A.\")\n",
    "    \n",
    "    \n",
    "    if BGCount['B'] > 0: #Counting of blood type 'B' patients\n",
    "        print(f\"There are {BGCount['B']} patients of blood type B.\")\n",
    "    else:\n",
    "        print(f\"There are no patients of blood type B.\")\n",
    "    \n",
    "    \n",
    "    if BGCount['AB'] > 0: #Counting of blood type 'AB' patients\n",
    "        print(f\"There are {BGCount['AB']} patients of blood type AB.\")\n",
    "    else:\n",
    "        print(f\"There are no patients of blood type AB.\")\n",
    "\n",
    "   \n",
    "    if BGCount['O'] > 0: #Counting of blood type 'O' patients\n",
    "        print(f\"There are {BGCount['O']} patients of blood type O.\")\n",
    "    else:\n",
    "        print(f\"There are no patients of blood type O.\")\n",
    "    \n",
    "  \n",
    "    if BGCount['OO'] > 0:  #Counting of blood type 'OO' patients\n",
    "        print(f\"There are {BGCount['OO']} patients of blood type OO.\")\n",
    "    else:\n",
    "        print(f\"There are no patients of blood type OO.\")\n",
    "        \n",
    "bldcount('bloodtype1.txt')\n"
   ]
  },
  {
   "cell_type": "markdown",
   "id": "635e6600",
   "metadata": {},
   "source": [
    "# Question 8\n",
    "#### Write a function curconv() that takes as input:\n",
    "1. a currency represented using a string (e.g., 'JPY' for the Japanese Yen or\n",
    "'EUR' for the Euro)\n",
    "2. an amount\n",
    "and then converts and returns the amount in US dollars.\n",
    "\n",
    "> curconv('EUR', 100)\n",
    "\n",
    "122.96544\n",
    "\n",
    "> curconv('JPY', 100)\n",
    "\n",
    "1.241401\n",
    "\n",
    "#### The currency rates you will need are stored in file currencies.txt:\n",
    "##### AUD 1.0345157 Australian Dollar\n",
    "##### CHF 1.0237414 Swiss Franc\n",
    "##### CNY 0.1550176 Chinese Yuan\n",
    "##### DKK 0.1651442 Danish Krone\n",
    "##### EUR 1.2296544 Euro\n",
    "##### GBP 1.5550989 British Pound\n",
    "##### HKD 0.1270207 Hong Kong Dollar\n",
    "##### INR 0.0177643 Indian Rupee\n",
    "##### JPY 0.01241401 Japanese Yen\n",
    "##### MXN 0.0751848 Mexican Peso\n",
    "##### MYR 0.3145411 Malaysian Ringgit\n",
    "##### NOK 0.1677063 Norwegian Krone\n",
    "##### NZD 0.8003591 New Zealand Dollar\n",
    "##### PHP 0.0233234 Philippine Peso\n",
    "##### SEK 0.148269 Swedish Krona\n",
    "##### SGD 0.788871 Singapore Dollar\n",
    "##### THB 0.0313789 Thai Baht\n"
   ]
  },
  {
   "cell_type": "code",
   "execution_count": 75,
   "id": "77085185",
   "metadata": {},
   "outputs": [
    {
     "name": "stdout",
     "output_type": "stream",
     "text": [
      "$122.96544\n",
      "$1.241401\n"
     ]
    }
   ],
   "source": [
    "def curconv(cur, amnt):\n",
    "    \n",
    "    file = open('currencies.txt') #opening file\n",
    "   \n",
    "    for line in file.readlines():\n",
    "        \n",
    "        if cur in line: #checking if 'cur' is present in the line\n",
    "            Currency = line.split('\\t') #creating a list by spliting the read line; delimiter: \\t (tab)\n",
    "            cv = Currency[1] #Obtaining currency value from the list\n",
    "            return \"$\" + str(float(cv) * amnt) #calculating and returning the converted value\n",
    "    return \"Currency Not Available.\"\n",
    "\n",
    "print(curconv('EUR', 100))\n",
    "print(curconv('JPY', 100))"
   ]
  },
  {
   "cell_type": "markdown",
   "id": "ea3050b5",
   "metadata": {},
   "source": [
    "# Question 9\n",
    "#### Each of the following will cause an exception (an error). Identify what type of exception each will cause.\n",
    "Trying to add incompatible variables, as in adding 6 + ‘a’\n",
    "\n",
    "Referring to the 12th item of a list that has only 10\n",
    "items\n",
    "\n",
    "Using a value that is out of range for a function’s input, such as calling math.sqrt(-1.0)\n",
    "\n",
    "Using an undeclared variable, such as print(x) when x has not been defined\n",
    "\n",
    "Trying to open a file that does not exist, such as mistyping the file name or looking in the wrong directory. "
   ]
  },
  {
   "cell_type": "code",
   "execution_count": 5,
   "id": "f5367e4e",
   "metadata": {},
   "outputs": [
    {
     "ename": "TypeError",
     "evalue": "unsupported operand type(s) for +: 'int' and 'str'",
     "output_type": "error",
     "traceback": [
      "\u001b[1;31m---------------------------------------------------------------------------\u001b[0m",
      "\u001b[1;31mTypeError\u001b[0m                                 Traceback (most recent call last)",
      "\u001b[1;32m<ipython-input-5-36e6ac491279>\u001b[0m in \u001b[0;36m<module>\u001b[1;34m\u001b[0m\n\u001b[1;32m----> 1\u001b[1;33m \u001b[1;36m6\u001b[0m \u001b[1;33m+\u001b[0m \u001b[1;34m'a'\u001b[0m \u001b[1;31m# This will throw a TypeError exception\u001b[0m\u001b[1;33m\u001b[0m\u001b[1;33m\u001b[0m\u001b[0m\n\u001b[0m",
      "\u001b[1;31mTypeError\u001b[0m: unsupported operand type(s) for +: 'int' and 'str'"
     ]
    }
   ],
   "source": [
    "6 + 'a' #This will throw a TypeError exception"
   ]
  },
  {
   "cell_type": "code",
   "execution_count": 6,
   "id": "5dcd656c",
   "metadata": {},
   "outputs": [
    {
     "ename": "IndexError",
     "evalue": "list index out of range",
     "output_type": "error",
     "traceback": [
      "\u001b[1;31m---------------------------------------------------------------------------\u001b[0m",
      "\u001b[1;31mIndexError\u001b[0m                                Traceback (most recent call last)",
      "\u001b[1;32m<ipython-input-6-7f3bf04adcc0>\u001b[0m in \u001b[0;36m<module>\u001b[1;34m\u001b[0m\n\u001b[0;32m      1\u001b[0m \u001b[0mn\u001b[0m \u001b[1;33m=\u001b[0m \u001b[1;33m[\u001b[0m\u001b[1;36m0\u001b[0m\u001b[1;33m,\u001b[0m \u001b[1;36m1\u001b[0m\u001b[1;33m,\u001b[0m \u001b[1;36m2\u001b[0m\u001b[1;33m,\u001b[0m \u001b[1;36m3\u001b[0m\u001b[1;33m,\u001b[0m \u001b[1;36m4\u001b[0m\u001b[1;33m,\u001b[0m \u001b[1;36m5\u001b[0m\u001b[1;33m,\u001b[0m \u001b[1;36m6\u001b[0m\u001b[1;33m,\u001b[0m \u001b[1;36m7\u001b[0m\u001b[1;33m,\u001b[0m \u001b[1;36m8\u001b[0m\u001b[1;33m,\u001b[0m \u001b[1;36m9\u001b[0m\u001b[1;33m]\u001b[0m\u001b[1;33m\u001b[0m\u001b[1;33m\u001b[0m\u001b[0m\n\u001b[1;32m----> 2\u001b[1;33m \u001b[0mn\u001b[0m\u001b[1;33m[\u001b[0m\u001b[1;36m12\u001b[0m\u001b[1;33m]\u001b[0m \u001b[1;31m#This will throw a IndexError exception\u001b[0m\u001b[1;33m\u001b[0m\u001b[1;33m\u001b[0m\u001b[0m\n\u001b[0m",
      "\u001b[1;31mIndexError\u001b[0m: list index out of range"
     ]
    }
   ],
   "source": [
    "n = [0, 1, 2, 3, 4, 5, 6, 7, 8, 9]\n",
    "n[12] #This will throw an IndexError exception"
   ]
  },
  {
   "cell_type": "code",
   "execution_count": 7,
   "id": "31a65b8a",
   "metadata": {},
   "outputs": [
    {
     "ename": "ValueError",
     "evalue": "math domain error",
     "output_type": "error",
     "traceback": [
      "\u001b[1;31m---------------------------------------------------------------------------\u001b[0m",
      "\u001b[1;31mValueError\u001b[0m                                Traceback (most recent call last)",
      "\u001b[1;32m<ipython-input-7-2960111407b7>\u001b[0m in \u001b[0;36m<module>\u001b[1;34m\u001b[0m\n\u001b[0;32m      1\u001b[0m \u001b[1;32mimport\u001b[0m \u001b[0mmath\u001b[0m\u001b[1;33m\u001b[0m\u001b[1;33m\u001b[0m\u001b[0m\n\u001b[0;32m      2\u001b[0m \u001b[1;33m\u001b[0m\u001b[0m\n\u001b[1;32m----> 3\u001b[1;33m \u001b[0mmath\u001b[0m\u001b[1;33m.\u001b[0m\u001b[0msqrt\u001b[0m\u001b[1;33m(\u001b[0m\u001b[1;33m-\u001b[0m\u001b[1;36m1.0\u001b[0m\u001b[1;33m)\u001b[0m \u001b[1;31m#This will throw a ValueError exception\u001b[0m\u001b[1;33m\u001b[0m\u001b[1;33m\u001b[0m\u001b[0m\n\u001b[0m",
      "\u001b[1;31mValueError\u001b[0m: math domain error"
     ]
    }
   ],
   "source": [
    "import math\n",
    "\n",
    "math.sqrt(-1.0) #This will throw a ValueError exception"
   ]
  },
  {
   "cell_type": "code",
   "execution_count": 8,
   "id": "eae85b66",
   "metadata": {},
   "outputs": [
    {
     "ename": "NameError",
     "evalue": "name 'x' is not defined",
     "output_type": "error",
     "traceback": [
      "\u001b[1;31m---------------------------------------------------------------------------\u001b[0m",
      "\u001b[1;31mNameError\u001b[0m                                 Traceback (most recent call last)",
      "\u001b[1;32m<ipython-input-8-cbd6221ea0f0>\u001b[0m in \u001b[0;36m<module>\u001b[1;34m\u001b[0m\n\u001b[1;32m----> 1\u001b[1;33m \u001b[0mprint\u001b[0m\u001b[1;33m(\u001b[0m\u001b[0mx\u001b[0m\u001b[1;33m)\u001b[0m \u001b[1;31m#This will throw a NameError exception\u001b[0m\u001b[1;33m\u001b[0m\u001b[1;33m\u001b[0m\u001b[0m\n\u001b[0m",
      "\u001b[1;31mNameError\u001b[0m: name 'x' is not defined"
     ]
    }
   ],
   "source": [
    "print(x) #This will throw a NameError exception"
   ]
  },
  {
   "cell_type": "code",
   "execution_count": 52,
   "id": "9470f8c5",
   "metadata": {},
   "outputs": [
    {
     "ename": "FileNotFoundError",
     "evalue": "[Errno 2] No such file or directory: 'bdat1004.txt'",
     "output_type": "error",
     "traceback": [
      "\u001b[1;31m---------------------------------------------------------------------------\u001b[0m",
      "\u001b[1;31mFileNotFoundError\u001b[0m                         Traceback (most recent call last)",
      "\u001b[1;32m<ipython-input-52-5b5b69701b39>\u001b[0m in \u001b[0;36m<module>\u001b[1;34m\u001b[0m\n\u001b[1;32m----> 1\u001b[1;33m \u001b[0mfile\u001b[0m \u001b[1;33m=\u001b[0m \u001b[0mopen\u001b[0m\u001b[1;33m(\u001b[0m\u001b[1;34m'bdat1004.txt'\u001b[0m\u001b[1;33m)\u001b[0m \u001b[1;31m#There is no such file caleed 'saba.txt'\u001b[0m\u001b[1;33m\u001b[0m\u001b[1;33m\u001b[0m\u001b[0m\n\u001b[0m",
      "\u001b[1;31mFileNotFoundError\u001b[0m: [Errno 2] No such file or directory: 'bdat1004.txt'"
     ]
    }
   ],
   "source": [
    "file = open('bdat1004.txt') #There is no such file caleed 'bdat1004.txt'"
   ]
  },
  {
   "cell_type": "markdown",
   "id": "303fd2aa",
   "metadata": {},
   "source": [
    "# Question 10\n",
    "#### Encryption is the process of hiding the meaning of a text by substituting letters in the message with other letters, according to some system. If the process is successful, no one but the intended recipient can understand the encrypted message. Cryptanalysis refers to attempts to undo the encryption, even if some details of the encryption are unknown (for example, if an encrypted message has been intercepted). The first step of cryptanalysis is often to build up a table of letter frequencies in the encrypted text.\n",
    "#### Assume that the string letters is already defined as 'abcdefghijklmnopqrstuvwxyz'. Write a function called frequencies() that takes a string as its only parameter, and returns a list of integers, showing the number of times each character appears in the text. Your function may ignore any characters that are not in letters. "
   ]
  },
  {
   "cell_type": "code",
   "execution_count": 25,
   "id": "7eac28db",
   "metadata": {},
   "outputs": [
    {
     "name": "stdout",
     "output_type": "stream",
     "text": [
      "[0, 0, 0, 0, 0, 0, 0, 0, 0, 0, 0, 0, 0, 0, 0, 0, 0, 0, 0, 0, 0, 0, 0, 0, 0, 0]\n",
      "[1, 0, 0, 0, 1, 0, 0, 0, 0, 0, 0, 1, 0, 0, 0, 2, 0, 0, 0, 0, 0, 0, 0, 0, 0, 0]\n",
      "[1, 0, 0, 0, 0, 0, 1, 0, 0, 0, 0, 0, 1, 1, 1, 0, 0, 0, 0, 0, 0, 0, 0, 0, 0, 0]\n"
     ]
    }
   ],
   "source": [
    "def frequencies(string):\n",
    "    letters = 'abcdefghijklmnopqrstuvwxyz'\n",
    "    frequency = [0]*26 #List of 26 elements, initialized with 0\n",
    "    for i in range(26):\n",
    "        frequency[i] += string.count(letters[i]) #counting the frequencies of each letter using string method count()\n",
    "    print(frequency)\n",
    "\n",
    "\n",
    "frequencies('BDAT 1004')\n",
    "frequencies('apple')\n",
    "frequencies('mango')"
   ]
  }
 ],
 "metadata": {
  "kernelspec": {
   "display_name": "Python 3",
   "language": "python",
   "name": "python3"
  },
  "language_info": {
   "codemirror_mode": {
    "name": "ipython",
    "version": 3
   },
   "file_extension": ".py",
   "mimetype": "text/x-python",
   "name": "python",
   "nbconvert_exporter": "python",
   "pygments_lexer": "ipython3",
   "version": "3.8.8"
  }
 },
 "nbformat": 4,
 "nbformat_minor": 5
}
